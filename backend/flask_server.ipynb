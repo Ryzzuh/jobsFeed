{
 "cells": [
  {
   "cell_type": "code",
   "execution_count": 5,
   "id": "4814fffb-3b9e-4d13-8560-85849ea6b6a4",
   "metadata": {},
   "outputs": [
    {
     "name": "stdout",
     "output_type": "stream",
     "text": [
      "/home/burnett/projects/python/flask_server/flask_selenium_xvfb_bundle\n",
      "['Dockerfile', 'Dockerfile:Zone.Identifier', 'chromium', 'app.py:Zone.Identifier', '.ipynb_checkpoints', 'requirements.txt', 'requirements.txt:Zone.Identifier', 'app.py']\n",
      "['backup', 'chromium.chromiumdriver', 'chromium-browser']\n",
      "/home/burnett/projects/python/flask_server/flask_selenium_xvfb_bundle/chromium/chromium.chromiumdriver\n"
     ]
    }
   ],
   "source": [
    "import os\n",
    "print(os.getcwd())\n",
    "print(os.listdir(os.getcwd()))\n",
    "print(os.listdir(f'{os.getcwd()}/chromium/'))\n",
    "print(f'{os.getcwd()}/chromium/chromium.chromiumdriver')"
   ]
  },
  {
   "cell_type": "code",
   "execution_count": 1,
   "id": "b73decb3-a77f-44ad-b3b9-0291ee154fd6",
   "metadata": {},
   "outputs": [
    {
     "name": "stdout",
     "output_type": "stream",
     "text": [
      "/tmp/tmpvsr_bi47\n"
     ]
    }
   ],
   "source": [
    "import tempfile\n",
    "tmp_user_data_dir = tempfile.mkdtemp()\n",
    "print(tmp_user_data_dir)"
   ]
  },
  {
   "cell_type": "code",
   "execution_count": 3,
   "id": "c3717a22-e87e-4694-a235-87f05680937b",
   "metadata": {},
   "outputs": [
    {
     "name": "stdout",
     "output_type": "stream",
     "text": [
      "Driver path: /home/burnett/projects/python/flask_server/flask_selenium_xvfb_bundle/chromium/chromedriver.exe\n",
      "Exists: True\n",
      "Is file: True\n"
     ]
    }
   ],
   "source": [
    "import os\n",
    "\n",
    "chromedriver_path = os.path.join(\n",
    "    os.getcwd(), \"flask_selenium_xvfb_bundle\", \"chromium\", \"chromedriver.exe\"\n",
    ")\n",
    "\n",
    "print(\"Driver path:\", chromedriver_path)\n",
    "print(\"Exists:\", os.path.exists(chromedriver_path))\n",
    "print(\"Is file:\", os.path.isfile(chromedriver_path))"
   ]
  },
  {
   "cell_type": "code",
   "execution_count": 3,
   "id": "efc31af2-2244-455c-b546-6b5f73114333",
   "metadata": {},
   "outputs": [],
   "source": [
    "import os\n",
    "import uuid\n",
    "from selenium import webdriver\n",
    "from selenium.webdriver.chrome.service import Service\n",
    "from selenium.webdriver.chrome.options import Options"
   ]
  },
  {
   "cell_type": "code",
   "execution_count": 10,
   "id": "bdfccb0c-8bd5-4e71-878d-4619619b8056",
   "metadata": {},
   "outputs": [
    {
     "name": "stdout",
     "output_type": "stream",
     "text": [
      "/home/burnett/projects/python/flask_server/flask_selenium_xvfb_bundle/chromium/chrome-linux64/chrome\n",
      "/home/burnett/projects/python/flask_server/flask_selenium_xvfb_bundle/chromium/chromedriver\n",
      "Page title: SEEK - Australia's no. 1 jobs, employment, career and recruitment site\n"
     ]
    }
   ],
   "source": [
    "import os\n",
    "from selenium import webdriver\n",
    "from selenium.webdriver.chrome.service import Service\n",
    "from selenium.webdriver.chrome.options import Options\n",
    "# TODO put chrome dependencies into the project directory (for portability)\n",
    "\n",
    "# Set up Chrome options\n",
    "options = Options()\n",
    "# options.page_load_strategy = 'none'\n",
    "# options.binary_location = \"/usr/bin/chromium-browser\"\n",
    "# options.binary_location = f'{os.getcwd()}/chromium/chromium-browser'\n",
    "options.binary_location = f'{os.getcwd()}/chromium/chrome-linux64/chrome'\n",
    "print(options.binary_location)\n",
    "\n",
    "# options.add_argument(\"--headless\")  # Run without GUI\n",
    "options.add_argument(\"--no-sandbox\")\n",
    "options.add_argument(\"--disable-dev-shm-usage\")\n",
    "\n",
    "# Path to ChromeDriver binary (adjust if needed)\n",
    "# chromedriver_path = os.path.expanduser(\"/snap/bin/chromium.chromedriver\")\n",
    "# chromedriver_path = f'{os.getcwd()}/chromium/chromium.chromiumdriver'\n",
    "chromedriver_path = f'{os.getcwd()}/chromium/chromedriver'\n",
    "\n",
    "print(chromedriver_path)\n",
    "\n",
    "\n",
    "service = Service(executable_path=chromedriver_path)\n",
    "\n",
    "# options.add_argument(\"--log-level=3\")\n",
    "\n",
    "# Use a temporary directory for Chrome user data\n",
    "# profile_dir = f\"/tmp/chrome-profile-{uuid.uuid4()}\"\n",
    "# profile_dir = f\"{os.getcwd()}/tmp/chrome-profile-{uuid.uuid4()}\"\n",
    "# options.add_argument(f\"--user-data-dir={profile_dir}\")\n",
    "\n",
    "# Create the WebDriver\n",
    "driver = webdriver.Chrome(service=service, options=options)\n",
    "\n",
    "# Use the driver\n",
    "# driver.get(\"https://www.selenium.dev/selenium/web/web-form.html\")\n",
    "driver.get('https://www.seek.com.au/')\n",
    "print(\"Page title:\", driver.title)\n",
    "\n",
    "# Clean up\n",
    "driver.quit()"
   ]
  },
  {
   "cell_type": "code",
   "execution_count": null,
   "id": "21ea2f5a-f1b0-4539-b9aa-33d7b1acb04e",
   "metadata": {},
   "outputs": [],
   "source": []
  },
  {
   "cell_type": "code",
   "execution_count": 17,
   "id": "0d9d3dbd-fb9a-4849-9720-4f64e2439762",
   "metadata": {
    "scrolled": true
   },
   "outputs": [
    {
     "name": "stdout",
     "output_type": "stream",
     "text": [
      "/home/burnett/projects/python/flask_server/flask_selenium_xvfb_bundle/chromium/chrome-linux64/chrome\n",
      "chromedriver_path:  /home/burnett/projects/python/flask_server/flask_selenium_xvfb_bundle/chromium/chromedriver\n",
      "Page title: Web form\n"
     ]
    },
    {
     "data": {
      "text/plain": [
       "'Web form'"
      ]
     },
     "execution_count": 17,
     "metadata": {},
     "output_type": "execute_result"
    }
   ],
   "source": [
    "from flask import Flask, request, jsonify\n",
    "import subprocess\n",
    "import time\n",
    "import os\n",
    "import tempfile\n",
    "import uuid\n",
    "import shutil\n",
    "\n",
    "from selenium import webdriver\n",
    "from selenium.webdriver.chrome.service import Service\n",
    "from selenium.webdriver.chrome.options import Options\n",
    "\n",
    "app = Flask(__name__)\n",
    "\n",
    "def start_xvfb():\n",
    "    \"\"\"Starts virtual display if not already running.\"\"\"\n",
    "    if not os.environ.get(\"DISPLAY\"):\n",
    "        os.environ[\"DISPLAY\"] = \":99\"\n",
    "        subprocess.Popen([\"Xvfb\", \":99\", \"-screen\", \"0\", \"1920x1080x24\"])\n",
    "        time.sleep(2)  # give Xvfb time to start\n",
    "\n",
    "def get_data_with_selenium():\n",
    "    \"\"\"Selenium job to run with GUI in virtual display.\"\"\"\n",
    "    start_xvfb()\n",
    "\n",
    "    # Set up Chrome options\n",
    "    options = Options()\n",
    "    options.page_load_strategy = 'none'\n",
    "    options.binary_location = f'{os.getcwd()}/chromium/chrome-linux64/chrome'\n",
    "    print(options.binary_location)\n",
    "    options.add_argument(\"--disable-gpu\")  # Optional\n",
    "    options.add_argument(\"--window-size=1920,1080\")\n",
    "    options.add_argument(\"--no-sandbox\")\n",
    "    options.add_argument(\"--disable-dev-shm-usage\")\n",
    "    \n",
    "    # Path to ChromeDriver binary (adjust if needed)\n",
    "    chromedriver_path = f'{os.getcwd()}/chromium/chromedriver'\n",
    "    print('chromedriver_path: ', chromedriver_path)\n",
    "    \n",
    "    service = Service(executable_path=chromedriver_path)\n",
    "\n",
    "    # Use a temporary directory for Chrome user data\n",
    "    profile_dir = f\"{os.getcwd()}/tmp/chrome-profile-{uuid.uuid4()}\"\n",
    "    options.add_argument(f\"--user-data-dir={profile_dir}\")\n",
    "    \n",
    "    # Create the WebDriver\n",
    "    driver = webdriver.Chrome(service=service, options=options)\n",
    "\n",
    "    try:\n",
    "        # Use the driver\n",
    "        driver.get(\"https://www.selenium.dev/selenium/web/web-form.html\")\n",
    "        title = driver.title\n",
    "        print(\"Page title:\", title)\n",
    "    finally:\n",
    "        # Clean up\n",
    "        driver.quit()\n",
    "        time.sleep(2)\n",
    "        shutil.rmtree(profile_dir, ignore_errors=True)\n",
    "\n",
    "\n",
    "    return title\n",
    "    \n",
    "get_data_with_selenium()"
   ]
  },
  {
   "cell_type": "code",
   "execution_count": null,
   "id": "c7d6dc75-1de9-48cd-8d3b-8efcaf4d2368",
   "metadata": {},
   "outputs": [],
   "source": []
  },
  {
   "cell_type": "code",
   "execution_count": null,
   "id": "3d425dbd-2a0d-463d-b961-e340015ba05c",
   "metadata": {},
   "outputs": [],
   "source": []
  }
 ],
 "metadata": {
  "kernelspec": {
   "display_name": "Python 3 (ipykernel)",
   "language": "python",
   "name": "python3"
  },
  "language_info": {
   "codemirror_mode": {
    "name": "ipython",
    "version": 3
   },
   "file_extension": ".py",
   "mimetype": "text/x-python",
   "name": "python",
   "nbconvert_exporter": "python",
   "pygments_lexer": "ipython3",
   "version": "3.12.3"
  }
 },
 "nbformat": 4,
 "nbformat_minor": 5
}
